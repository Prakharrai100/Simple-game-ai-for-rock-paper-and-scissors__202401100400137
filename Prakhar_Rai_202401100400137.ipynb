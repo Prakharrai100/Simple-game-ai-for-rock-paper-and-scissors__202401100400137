{
  "nbformat": 4,
  "nbformat_minor": 0,
  "metadata": {
    "colab": {
      "provenance": []
    },
    "kernelspec": {
      "name": "python3",
      "display_name": "Python 3"
    },
    "language_info": {
      "name": "python"
    }
  },
  "cells": [
    {
      "cell_type": "code",
      "execution_count": 6,
      "metadata": {
        "colab": {
          "base_uri": "https://localhost:8080/"
        },
        "id": "HhxLbnXQOrzF",
        "outputId": "6f175a19-b381-47fc-d1bd-1abf70477384"
      },
      "outputs": [
        {
          "output_type": "stream",
          "name": "stdout",
          "text": [
            "Welcome to Rock-Paper-Scissors! ✊✋✌️\n",
            "Type 'quit' anytime to exit.\n",
            "\n",
            "Your move (rock, paper, or scissors): paper\n",
            "\n",
            "Thinking...\n",
            "AI chose: Scissors\n",
            "AI wins! 🤖 Better luck next time. \n",
            "\n",
            "Your move (rock, paper, or scissors): roxk\n",
            "Oops! That's not a valid move. Try again.\n",
            "\n",
            "Your move (rock, paper, or scissors): rock\n",
            "\n",
            "Thinking...\n",
            "AI chose: Paper\n",
            "AI wins! 🤖 Better luck next time. \n",
            "\n",
            "Your move (rock, paper, or scissors): quit\n",
            "\n",
            "Thanks for playing! See you next time. 👋\n"
          ]
        }
      ],
      "source": [
        "import random\n",
        "import time  # For adding slight delays to make the game feel more natural\n",
        "\n",
        "# Define possible choices\n",
        "choices = [\"rock\", \"paper\", \"scissors\"]\n",
        "\n",
        "def get_ai_move():\n",
        "    \"\"\" AI randomly picks rock, paper, or scissors \"\"\"\n",
        "    return random.choice(choices)\n",
        "\n",
        "def determine_winner(player_move, ai_move):\n",
        "    \"\"\" Determines the winner based on the choices \"\"\"\n",
        "    if player_move == ai_move:\n",
        "        return \"It's a tie! We both chose the same.\"\n",
        "\n",
        "    winning_combos = {\n",
        "        \"rock\": \"scissors\",\n",
        "        \"paper\": \"rock\",\n",
        "        \"scissors\": \"paper\"\n",
        "    }\n",
        "\n",
        "    if winning_combos[player_move] == ai_move:\n",
        "        return \"You win! 🎉\"\n",
        "    return \"AI wins! 🤖 Better luck next time.\"\n",
        "\n",
        "# Game introduction\n",
        "print(\"Welcome to Rock-Paper-Scissors! ✊✋✌️\")\n",
        "print(\"Type 'quit' anytime to exit.\\n\")\n",
        "\n",
        "# Main game loop\n",
        "while True:\n",
        "    # Get player input\n",
        "    player_move = input(\"Your move (rock, paper, or scissors): \").lower()\n",
        "\n",
        "    if player_move == \"quit\":\n",
        "        print(\"\\nThanks for playing! See you next time. 👋\")\n",
        "        break\n",
        "\n",
        "    if player_move not in choices:\n",
        "        print(\"Oops! That's not a valid move. Try again.\\n\")\n",
        "        continue\n",
        "\n",
        "    # AI makes a move\n",
        "    print(\"\\nThinking...\")\n",
        "    time.sleep(1)  # Add a slight delay for realism\n",
        "    ai_move = get_ai_move()\n",
        "\n",
        "    # Show AI's move\n",
        "    print(f\"AI chose: {ai_move.capitalize()}\")\n",
        "\n",
        "    # Determine and show the winner\n",
        "    time.sleep(0.5)\n",
        "    print(determine_winner(player_move, ai_move), \"\\n\")\n"
      ]
    }
  ]
}